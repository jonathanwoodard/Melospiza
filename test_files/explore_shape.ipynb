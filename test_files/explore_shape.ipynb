{
 "cells": [
  {
   "cell_type": "code",
   "execution_count": 1,
   "metadata": {
    "collapsed": true
   },
   "outputs": [],
   "source": [
    "import shapefile\n",
    "import pandas as pd\n",
    "import numpy as np"
   ]
  },
  {
   "cell_type": "code",
   "execution_count": 2,
   "metadata": {
    "collapsed": true
   },
   "outputs": [],
   "source": [
    "from bokeh.plotting import *"
   ]
  },
  {
   "cell_type": "code",
   "execution_count": 14,
   "metadata": {
    "collapsed": false
   },
   "outputs": [],
   "source": [
    "eco = shapefile.Reader(\"/home/jon/data/eco-na-shp/na_regns\")"
   ]
  },
  {
   "cell_type": "code",
   "execution_count": 16,
   "metadata": {
    "collapsed": false
   },
   "outputs": [
    {
     "data": {
      "text/plain": [
       "<shapefile.Reader instance at 0x7f40287e0050>"
      ]
     },
     "execution_count": 16,
     "metadata": {},
     "output_type": "execute_result"
    }
   ],
   "source": [
    "eco"
   ]
  },
  {
   "cell_type": "code",
   "execution_count": 31,
   "metadata": {
    "collapsed": true
   },
   "outputs": [],
   "source": [
    "codes = set([i[4] for i in eco.iterRecords()])"
   ]
  },
  {
   "cell_type": "code",
   "execution_count": 32,
   "metadata": {
    "collapsed": false
   },
   "outputs": [],
   "source": [
    "domains = set([i[5] for i in eco.iterRecords()])"
   ]
  },
  {
   "cell_type": "code",
   "execution_count": 33,
   "metadata": {
    "collapsed": true
   },
   "outputs": [],
   "source": [
    "divisions = set([i[6] for i in eco.iterRecords()])"
   ]
  },
  {
   "cell_type": "code",
   "execution_count": 47,
   "metadata": {
    "collapsed": true
   },
   "outputs": [],
   "source": [
    "descriptions = set([(i[4], i[5], i[6], i[7]) for i in eco.iterRecords()])"
   ]
  },
  {
   "cell_type": "code",
   "execution_count": 48,
   "metadata": {
    "collapsed": false
   },
   "outputs": [
    {
     "data": {
      "text/plain": [
       "64"
      ]
     },
     "execution_count": 48,
     "metadata": {},
     "output_type": "execute_result"
    }
   ],
   "source": [
    "len(descriptions)"
   ]
  },
  {
   "cell_type": "code",
   "execution_count": 49,
   "metadata": {
    "collapsed": false
   },
   "outputs": [
    {
     "data": {
      "text/plain": [
       "{('-  0', 'HUMID TEMPERATE DOMAIN', 'Lake', 'Lake'),\n",
       " ('-111', 'POLAR DOMAIN', 'Icecap Division', 'Glacial ice'),\n",
       " ('-121', 'POLAR DOMAIN', 'Tundra Division', 'Ice and stoney deserts'),\n",
       " ('-122', 'POLAR DOMAIN', 'Tundra Division', 'Arctic tundras'),\n",
       " ('-123', 'POLAR DOMAIN', 'Tundra Division', 'Tundras'),\n",
       " ('-131',\n",
       "  'POLAR DOMAIN',\n",
       "  'Subarctic Division',\n",
       "  'Forest-tundras and open woodlands'),\n",
       " ('-132', 'POLAR DOMAIN', 'Subarctic Division', 'Tayga (boreal forests)'),\n",
       " ('-211',\n",
       "  'HUMID TEMPERATE DOMAIN',\n",
       "  'Warm Continental Division',\n",
       "  'Mixed deciduous-coniferous forests'),\n",
       " ('-221a',\n",
       "  'HUMID TEMPERATE DOMAIN',\n",
       "  'Hot Continental Division',\n",
       "  'Broadleaved forests, oceanic'),\n",
       " ('-221b',\n",
       "  'HUMID TEMPERATE DOMAIN',\n",
       "  'Hot Continental Division',\n",
       "  'Broadleaved forests, continental'),\n",
       " ('-231',\n",
       "  'HUMID TEMPERATE DOMAIN',\n",
       "  'Subtropical Division',\n",
       "  'Broadleaved-coniferous evergreen forests'),\n",
       " ('-232',\n",
       "  'HUMID TEMPERATE DOMAIN',\n",
       "  'Subtropical Division',\n",
       "  'Coniferous-broadleaved semi-evergreen forests'),\n",
       " ('-241', 'HUMID TEMPERATE DOMAIN', 'Marine Division', 'Mixed forests'),\n",
       " ('-251',\n",
       "  'HUMID TEMPERATE DOMAIN',\n",
       "  'Prairie Division',\n",
       "  'Forest-steppes and prairies'),\n",
       " ('-252',\n",
       "  'HUMID TEMPERATE DOMAIN',\n",
       "  'Prairie Division',\n",
       "  'Prairies and savannas'),\n",
       " ('-261', 'HUMID TEMPERATE DOMAIN', 'Mediterranean Division', 'Dry steppe'),\n",
       " ('-262',\n",
       "  'HUMID TEMPERATE DOMAIN',\n",
       "  'Mediterranean Division',\n",
       "  'Mediterranean hardleaved evergreen forests, open woodlands and shrub'),\n",
       " ('-263',\n",
       "  'HUMID TEMPERATE DOMAIN',\n",
       "  'Mediterranean Division',\n",
       "  'Redwood forests'),\n",
       " ('-311',\n",
       "  'DRY DOMAIN',\n",
       "  'Tropical/Subtropical Steppe Division',\n",
       "  'Coniferous open woodland and semideserts'),\n",
       " ('-312', 'DRY DOMAIN', 'Tropical/Subtropical Steppe Division', 'Steppes'),\n",
       " ('-313',\n",
       "  'DRY DOMAIN',\n",
       "  'Tropical/Subtropical Steppe Division',\n",
       "  'Steppes and shrubs'),\n",
       " ('-314',\n",
       "  'DRY DOMAIN',\n",
       "  'Tropical/Subtropical Steppe Division',\n",
       "  'Shortgrass steppes'),\n",
       " ('-321', 'DRY DOMAIN', 'Tropical/Subtropical Desert Division', 'Semideserts'),\n",
       " ('-322',\n",
       "  'DRY DOMAIN',\n",
       "  'Tropical/Subtropical Desert Division',\n",
       "  'Oceanic semideserts'),\n",
       " ('-323',\n",
       "  'DRY DOMAIN',\n",
       "  'Tropical/Subtropical Desert Division',\n",
       "  'Deserts on sand'),\n",
       " ('-331', 'DRY DOMAIN', 'Temperate Steppe Division', 'Steppes'),\n",
       " ('-332', 'DRY DOMAIN', 'Temperate Steppe Division', 'Dry steppes'),\n",
       " ('-341', 'DRY DOMAIN', 'Temperate Desert Division', 'Semideserts'),\n",
       " ('-342',\n",
       "  'DRY DOMAIN',\n",
       "  'Temperate Desert Division',\n",
       "  'Semideserts and deserts'),\n",
       " ('-411',\n",
       "  'HUMID TROPICAL DOMAIN',\n",
       "  'Savanna Division',\n",
       "  'Open woodlands, shrubs, and savannas'),\n",
       " ('-412',\n",
       "  'HUMID TROPICAL DOMAIN',\n",
       "  'Savanna Division',\n",
       "  'Semi-evergreen forests'),\n",
       " ('-413', 'HUMID TROPICAL DOMAIN', 'Savanna Division', 'Deciduous forests'),\n",
       " ('-421',\n",
       "  'HUMID TROPICAL DOMAIN',\n",
       "  'Rainforest Division',\n",
       "  'Semi-evergreen and evergreen forests'),\n",
       " ('-422', 'HUMID TROPICAL DOMAIN', 'Rainforest Division', 'Evergreen forests'),\n",
       " ('M121', 'POLAR DOMAIN', 'Tundra Mountains', 'Polar desert'),\n",
       " ('M122', 'POLAR DOMAIN', 'Tundra Mountains', 'Tundra - polar desert'),\n",
       " ('M123', 'POLAR DOMAIN', 'Tundra Mountains', 'Tundra - meadow'),\n",
       " ('M124', 'POLAR DOMAIN', 'Tundra Mountains', 'Oceanic meadow - heath'),\n",
       " ('M131', 'POLAR DOMAIN', 'Subarctic Mountains', 'Open woodland - tundra'),\n",
       " ('M132a', 'POLAR DOMAIN', 'Subarctic Mountains', 'Tayga - tundra, medium'),\n",
       " ('M132b', 'POLAR DOMAIN', 'Subarctic Mountains', 'Tayga - tundra, high'),\n",
       " ('M211a',\n",
       "  'HUMID TEMPERATE DOMAIN',\n",
       "  'Warm Continental Mountains',\n",
       "  'Mixed forest - coniferous forest - tundra, medium'),\n",
       " ('M211b',\n",
       "  'HUMID TEMPERATE DOMAIN',\n",
       "  'Warm Continental Mountains',\n",
       "  'Mixed forest - coniferous forest - tundra, high'),\n",
       " ('M221',\n",
       "  'HUMID TEMPERATE DOMAIN',\n",
       "  'Hot Continental Mountains',\n",
       "  'Deciduous or mixed forest - coniferous forest - meadow'),\n",
       " ('M222',\n",
       "  'HUMID TEMPERATE DOMAIN',\n",
       "  'Hot Continental Mountains',\n",
       "  'Broadleaf forest - meadow'),\n",
       " ('M231',\n",
       "  'HUMID TEMPERATE DOMAIN',\n",
       "  'Subtropical Mountains',\n",
       "  'Mixed forest - meadow'),\n",
       " ('M241',\n",
       "  'HUMID TEMPERATE DOMAIN',\n",
       "  'Marine Mountains',\n",
       "  'Deciduous or mixed forest - coniferous forest - meadow'),\n",
       " ('M242a',\n",
       "  'HUMID TEMPERATE DOMAIN',\n",
       "  'Marine Mountains',\n",
       "  'Forest - meadow, medium'),\n",
       " ('M242b',\n",
       "  'HUMID TEMPERATE DOMAIN',\n",
       "  'Marine Mountains',\n",
       "  'Forest - meadow, high'),\n",
       " ('M261',\n",
       "  'HUMID TEMPERATE DOMAIN',\n",
       "  'Mediterranean Mountains',\n",
       "  'Mixed forest - coniferous forest - alpine meadow'),\n",
       " ('M262',\n",
       "  'HUMID TEMPERATE DOMAIN',\n",
       "  'Mediterranean Mountains',\n",
       "  'Mediterranean woodland or shrub - mixed or coniferous forest - steppe or meadow'),\n",
       " ('M263',\n",
       "  'HUMID TEMPERATE DOMAIN',\n",
       "  'Mediterranean Mountains',\n",
       "  'Shrub or woodland - steppe - meadow'),\n",
       " ('M311',\n",
       "  'DRY DOMAIN',\n",
       "  'Tropical/Subtropical Steppe Mountains',\n",
       "  'Steppe or semidesert - mixed forest - alpine meadow or steppe'),\n",
       " ('M321',\n",
       "  'DRY DOMAIN',\n",
       "  'Tropical/Subtropical Desert Mountains',\n",
       "  'Semidesert - shrub - open woodland - steppe or alpine meadow'),\n",
       " ('M322',\n",
       "  'DRY DOMAIN',\n",
       "  'Tropical/Subtropical Desert Mountains',\n",
       "  'Desert or semidesert - open woodland or shrub - desert or steppe'),\n",
       " ('M331',\n",
       "  'DRY DOMAIN',\n",
       "  'Temperate Steppe Mountains',\n",
       "  'Forest-steppe - coniferous forest - meadow - tundra'),\n",
       " ('M332',\n",
       "  'DRY DOMAIN',\n",
       "  'Temperate Steppe Mountains',\n",
       "  'Steppe - coniferous forest - tundra'),\n",
       " ('M333',\n",
       "  'DRY DOMAIN',\n",
       "  'Temperate Steppe Mountains',\n",
       "  'Steppe - coniferous forest'),\n",
       " ('M334',\n",
       "  'DRY DOMAIN',\n",
       "  'Temperate Steppe Mountains',\n",
       "  'Steppe - open woodland - coniferous forest - alpine meadow'),\n",
       " ('M341',\n",
       "  'DRY DOMAIN',\n",
       "  'Temperate Desert Mountains',\n",
       "  'Semidesert - open woodland - coniferous forest - alpine meadow'),\n",
       " ('M411',\n",
       "  'HUMID TROPICAL DOMAIN',\n",
       "  'Savanna Mountains',\n",
       "  'Open woodland - deciduous forest - coniferous forest - steppe or meadow'),\n",
       " ('M412', 'HUMID TROPICAL DOMAIN', 'Savanna Mountains', 'Forest - steppe'),\n",
       " ('M421',\n",
       "  'HUMID TROPICAL DOMAIN',\n",
       "  'Rainforest Mountains',\n",
       "  'Evergreen forest - meadow or paramos'),\n",
       " ('R',\n",
       "  'HUMID TEMPERATE DOMAIN',\n",
       "  'Subtropical Division',\n",
       "  'Lower Mississippi Riverine Forest Province')}"
      ]
     },
     "execution_count": 49,
     "metadata": {},
     "output_type": "execute_result"
    }
   ],
   "source": [
    "descriptions"
   ]
  },
  {
   "cell_type": "code",
   "execution_count": null,
   "metadata": {
    "collapsed": true
   },
   "outputs": [],
   "source": []
  }
 ],
 "metadata": {
  "kernelspec": {
   "display_name": "Python 2",
   "language": "python",
   "name": "python2"
  },
  "language_info": {
   "codemirror_mode": {
    "name": "ipython",
    "version": 2
   },
   "file_extension": ".py",
   "mimetype": "text/x-python",
   "name": "python",
   "nbconvert_exporter": "python",
   "pygments_lexer": "ipython2",
   "version": "2.7.10"
  }
 },
 "nbformat": 4,
 "nbformat_minor": 0
}
